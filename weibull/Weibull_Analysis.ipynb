{
 "cells": [
  {
   "cell_type": "markdown",
   "metadata": {},
   "source": [
    "# Introduction\n",
    "\n",
    "<a id=\"introduction\"></a>\n",
    "\n",
    "- [Part 1 - Weibull analysis with complete failure data](#part1)\n",
    "- [Part 2 - Weibull analysis with failure data and unfailed data (suspensions)](#part2)\n",
    "- [Part 3 - Weibull analysis with Maximum Likelihood Estimation (MLE)](#part3)\n",
    "\n",
    "Weibull analysis is the process of modeling data that we suspect follows a Weibull distribution.  Most failures or \"life data\" follow the Weibull distribution due to its versatile nature and therefore it is probably the most used distribution to model such failures.  It has many applications, but I use it to forecast warranty part failures.\n",
    "\n",
    "To determine if a set of data follows a Weibull distribution, the graphical method is the most popular method.  The graphical method entails graphing the failure times against a probability scale with a model that best fits the data using linear regression.  In Part 1 of a 3-part series, I will cover how to perform Weibull analysis when we have complete failure data.  That is, we waited for all of our units in the test or in the field to fail.  Part 2 in the series covers how to do Weibull analysis when we have data that also includes data for unfailed units or units that failed due to a different reason.  In Part 3, I will cover how to estimate the Weibull parameters using MLE method.  To be honest, I do not have a strong enough statistics and mathematics background to go into details and explain the theory on which method to use, although the general consensus is to use rank regression method if you have small-ish sample sizes (< 30).  If you have very large quantities of suspensions, MLE method seems to be the preferred method.\n",
    "\n",
    "I created this IPython notebook as a benefit to me as I will very soon have to train fellow data analysts at my place of occupation. I think this notebook format helps me organize my thoughts as I am explaining things and it also allows for me to interact with the data and charts as I go along.  Therefore, I feel the IPython notebook format provides a pedagogic benefit to me and hopefully for others as well.  This Weibull analysis series assumes you already have Python programming experience and have some statistics background."
   ]
  },
  {
   "cell_type": "markdown",
   "metadata": {},
   "source": [
    "# Part 1 - Weibull analysis with complete failure data\n",
    "\n",
    "[[back to top](#introduction)]\n",
    "\n",
    "<a id=\"part1\"></a>\n",
    "\n",
    "The Weibull distribution is a statistical distribution (Normal distribution being the most known) that is commonly used to model life data or failure times of various types of failures.  The 2-parameter version of the Weibull distribution is the most widely-used version of the Weibull distribution."
   ]
  },
  {
   "cell_type": "markdown",
   "metadata": {},
   "source": [
    "## Weibull Cumulative Distribution Function (CDF), 2-parameter\n",
    "\n",
    "$\\large{F(x) = 1 - e^{(\\frac{x}{\\lambda})^\\beta}}$\n",
    "\n",
    "where: \n",
    "\n",
    " - $\\beta$ is the shape parameter\n",
    " - $\\lambda$ is the scale parameter"
   ]
  },
  {
   "cell_type": "markdown",
   "metadata": {},
   "source": [
    "## Linearization of CDF\n",
    "\n",
    "<p>We will plot data points (failure times) and try to fit them onto a straight line in order to estimate our 2 Weibull parameters (k and $\\lambda$).  Since the Weibull CDF is a logarithmic function, if we attempt to plot the data ploints on 1-1 scale x and y-axis, the data will not fall onto a straight line.  To address this, we need to apply linear transformation to the Weibull CDF equation by using laws of exponents and laws of logarithms:\n",
    "    \n",
    "$\\large{F(x) = 1 - e^{(\\frac{x}{\\lambda})^\\beta}}$\n",
    "\n",
    "$1-F(x)=e^{-(\\frac{x}{\\lambda})^\\beta}$\n",
    "\n",
    "$ln(1-F(x))=-(\\frac{x}{\\lambda})^\\beta$\n",
    "\n",
    "$ln\\left(\\frac{1}{1-F(x)}\\right)=(\\frac{x}{\\lambda})^\\beta$\n",
    "\n",
    "$ln\\left(ln\\left(\\frac{1}{1-F(x)}\\right)\\right)=\\beta {\\space}ln(\\frac{x}{\\lambda})$\n",
    "\n",
    "$\\underbrace{ln\\left(ln\\left(\\frac{1}{1-F(x)}\\right)\\right)}=\\underbrace{\\beta {\\space}lnx}-\\underbrace{\\beta {\\space}ln\\lambda}$\n",
    "\n",
    "$y= mx + b$\n",
    "\n",
    "(\"linearized\" Weibull CDF)\n",
    "\n",
    "With the Weibull CDF in its linear form, $y$ is then equal to $ln\\left(ln\\left(\\frac{1}{1-F(x)}\\right)\\right){\\space}$, the slope $m$ equals $\\beta$, $x$ equals $ln(x)$, and the y-intercept $b$ equals $-\\beta (ln\\lambda)$.\n",
    "\n",
    "$b=-\\beta{\\space}ln\\lambda{\\space}{\\space}$, then solving for $\\lambda$:\n",
    "\n",
    "$\\large{\\lambda=e^{-(\\frac{b}{k})}}$\n",
    "\n",
    "So now that we know how to estimate the 2 Weibull parameters ($\\lambda$ and k), we are almost ready to create a Weibull probability plot later on.  \n",
    "\n",
    "A Weibull probability plot is simply plotting ln(x) versus $ln\\left(ln\\left(\\frac{1}{1-F(x)}\\right)\\right)$\n",
    "\n"
   ]
  },
  {
   "cell_type": "markdown",
   "metadata": {},
   "source": [
    "But what is F(x)?  F(x) is based on calculations for the \"Median Ranks\".  There are different ways to calculate median ranks.  But for Weibull distribution, it is suggested to use Bernard's formula for median ranks:\n",
    "\n",
    "$median rank = \\large{\\frac{(rank - 0.3)}{(n + 0.4)}}$\n",
    "\n",
    "where:\n",
    "\n",
    " - rank is the rank of the data from smallest to largest\n",
    " - n equals the total number of data points"
   ]
  },
  {
   "cell_type": "markdown",
   "metadata": {},
   "source": [
    "## Example\n",
    "\n",
    "Let's say we were to model car battery failures and we found the failures follow a Weibull distribution.  It allows us to answer questions such as \"What percent of the batteries will have failed after 200 days?\"\n",
    "\n",
    "Let's say we have 10 failures with failure times measured in minutes:\n",
    "\n",
    "150, 85, 135, 150, 240, 190, 240, 200, 250, 200\n",
    "\n",
    "First, we sort the data from smallest to largest, assigning a sequential `rank` to the data.  We also calculate the `median rank` and the resulting $y$ parameter.\n",
    "\n",
    "The following is the table containing necessary calculations for our x and y coordinates of the data that we are going to use to create the Weibull 1-1 scale probability plot:"
   ]
  },
  {
   "cell_type": "markdown",
   "metadata": {},
   "source": [
    "<table border=\"1\">\n",
    "  <col width=\"70\">\n",
    "  <col width=\"100\">\n",
    "    <col width=\"70\">\n",
    "  <col width=\"80\">\n",
    "    <col width=\"130\">\n",
    "<tr>\n",
    "<th style=\"text-align: center;\">data<br>$x$</th>\n",
    "<th style=\"text-align: center;\">x<br>$ln(x)$</th>\n",
    "<th style=\"text-align: center;\">rank</th>\n",
    "<th style=\"text-align: center;\">median rank F(x)<br>$\\frac{(rank - 0.3)}{(n + 0.4)}$</th>\n",
    "    <th style=\"text-align: center;\">y<br>$\\small{ln(ln(\\frac{1}{1-F(x)}))}$</th>\n",
    "</tr>\n",
    "<tr>\n",
    "<td>85</td>\n",
    "<td>4.44265126</td>\n",
    "<td style=\"text-align: center;\">1</td>\n",
    "<td>0.06730769</td>\n",
    "<td>-2.66384309</td>\n",
    "</tr>\n",
    "<tr>\n",
    "<td>135</td>\n",
    "<td>4.90527478</td>\n",
    "<td style=\"text-align: center;\">2</td>\n",
    "<td>0.16346154</td>\n",
    "<td>-1.72326315</td>\n",
    "</tr>\n",
    "<tr>\n",
    "<td>150</td>\n",
    "<td>5.01063529</td>\n",
    "<td style=\"text-align: center;\">3</td>\n",
    "<td>0.25961538</td>\n",
    "<td>-1.20202312</td>\n",
    "</tr>\n",
    "<tr>\n",
    "<td>150</td>\n",
    "<td>5.01063529</td>\n",
    "<td style=\"text-align: center;\">4</td>\n",
    "<td>0.35576923</td>\n",
    "<td>-0.82166652</td>\n",
    "</tr>\n",
    "<tr>\n",
    "<td>190</td>\n",
    "<td>5.24702407</td>\n",
    "<td style=\"text-align: center;\">5</td>\n",
    "<td>0.45192308</td>\n",
    "<td>-0.50859539</td>\n",
    "</tr>\n",
    "<tr>\n",
    "<td>200</td>\n",
    "<td>5.29831737</td>\n",
    "<td style=\"text-align: center;\">6</td>\n",
    "<td>0.54807692</td>\n",
    "<td>-0.23036544</td>\n",
    "</tr>\n",
    "<tr>\n",
    "<td>200</td>\n",
    "<td>5.29831737</td>\n",
    "<td style=\"text-align: center;\">7</td>\n",
    "<td>0.64423077</td>\n",
    "<td>0.03292496</td>\n",
    "</tr>\n",
    "<tr>\n",
    "<td>240</td>\n",
    "<td>5.48063892</td>\n",
    "<td style=\"text-align: center;\">8</td>\n",
    "<td>0.74038462</td>\n",
    "<td>0.29903293</td>\n",
    "</tr>\n",
    "<tr>\n",
    "<td>240</td>\n",
    "<td>5.48063892</td>\n",
    "<td style=\"text-align: center;\">9</td>\n",
    "<td>0.83653846</td>\n",
    "<td>0.59397722</td>\n",
    "</tr>\n",
    "<tr>\n",
    "<td>250</td>\n",
    "<td>5.52146092</td>\n",
    "<td style=\"text-align: center;\">10</td>\n",
    "<td>0.93269231</td>\n",
    "<td>0.99268893</td>\n",
    "</tr>\n",
    "</table>"
   ]
  },
  {
   "cell_type": "markdown",
   "metadata": {},
   "source": [
    "### Plot the Data\n",
    "\n",
    "With Python, Numpy/Scipy numerical/scientific packages, and MATPLOTLIB plotting package, we can generate the calculations and create the plot easily.  Note that $y = ln\\left(ln\\left(\\frac{1}{1-F(x)}\\right)\\right)$ is plotted along the x-axis while $x = ln(x)$ is plotted along the y-axis.  This is known as a \"X on Y median rank regression\"."
   ]
  },
  {
   "cell_type": "code",
   "execution_count": 1,
   "metadata": {
    "run_control": {
     "read_only": false
    }
   },
   "outputs": [
    {
     "data": {
      "image/png": "[encoded data removed]",
      "text/plain": [
       "<matplotlib.figure.Figure at 0x780d090>"
      ]
     },
     "metadata": {},
     "output_type": "display_data"
    },
    {
     "name": "stdout",
     "output_type": "stream",
     "text": [
      "x and y coordinates of the Weibull probability plot:\n",
      "( -2.66384308539 , 4.44265125649 )\n",
      "( -1.72326315028 , 4.90527477844 )\n",
      "( -1.20202311525 , 5.0106352941 )\n",
      "( -0.821666515129 , 5.0106352941 )\n",
      "( -0.508595393734 , 5.24702407216 )\n",
      "( -0.230365444733 , 5.29831736655 )\n",
      "( 0.0329249619143 , 5.29831736655 )\n",
      "( 0.299032931862 , 5.48063892334 )\n",
      "( 0.59397721666 , 5.48063892334 )\n",
      "( 0.99268892949 , 5.52146091786 )\n"
     ]
    }
   ],
   "source": [
    "%matplotlib inline\n",
    "import numpy as np\n",
    "import matplotlib.pyplot as plt\n",
    "from numpy import log as ln\n",
    "\n",
    "data = np.array([85,135,150,150,190,200,200,240,240,250])\n",
    "y = ln(data)\n",
    "rank = np.arange(1,data.size+1)  # ranks = {1, 2, 3, ... 10}\n",
    "median_rank = (rank - 0.3)/(rank.size + 0.4)\n",
    "x = ln(-ln(1 - median_rank))\n",
    "\n",
    "plt.scatter(x,y)\n",
    "plt.title(\"Weibull Probability Plot of Failure Times\")\n",
    "plt.xlabel(r'$ln\\left(ln\\left(\\frac{1}{1-F(x)}\\right)\\right)$', fontsize=16)\n",
    "plt.ylabel('ln(x)', fontsize=16)\n",
    "plt.grid()\n",
    "plt.show()\n",
    "\n",
    "print(\"x and y coordinates of the Weibull probability plot:\")\n",
    "for value in zip(x,y):\n",
    "    print(\"( \" + str(value[0]) + \" , \" + str(value[1]) + \" )\")"
   ]
  },
  {
   "cell_type": "markdown",
   "metadata": {},
   "source": [
    "### Linear Regression\n",
    "\n",
    "With least-squares [linear regression](http://austingwalters.com/introduction-to-linear-regression/) method, let's generate a line that will \"fit\" through the data points as best as possible.  From this \"ideal\" line, we are going to use the line's slope and y-intercept to calculate the shape and scale parameter of the ideal Weibull distribution:"
   ]
  },
  {
   "cell_type": "code",
   "execution_count": 2,
   "metadata": {
    "run_control": {
     "read_only": false
    }
   },
   "outputs": [
    {
     "data": {
      "image/png": "[encoded data removed]",
      "text/plain": [
       "<matplotlib.figure.Figure at 0x780e6d0>"
      ]
     },
     "metadata": {},
     "output_type": "display_data"
    },
    {
     "name": "stdout",
     "output_type": "stream",
     "text": [
      "r^2 value: 0.953902860399\n",
      "slope/shape parameter: 3.41595091809\n",
      "scale parameter: 204.93601772144896\n"
     ]
    }
   ],
   "source": [
    "import scipy.stats as stats # scipy is a statistical package for Python\n",
    "import math\n",
    "\n",
    "# Use Scipy's stats package to perform least-squares fit\n",
    "slope, intercept, r_value, p_value, std_err = stats.linregress(x,y)\n",
    "\n",
    "line = slope*x+intercept\n",
    "plt.scatter(x,y)\n",
    "plt.plot(x,line)\n",
    "plt.title(\"Linear Regression - Least Squares Method\")\n",
    "plt.grid()\n",
    "plt.show()\n",
    "\n",
    "# Since we plot failure times on the y-axis, the actual slope is inverted\n",
    "shape = 1/slope\n",
    "\n",
    "# Since we plot failure times on the y-axis, we want the x-intercept, not the y-intercept\n",
    "# x-intercept is equal to the negative y-intercept divided by the slope/shape parameter\n",
    "# Basically you are solving for x: 0 = mx + b, equation of the line where y = 0\n",
    "x_intercept = - intercept / shape\n",
    "\n",
    "print(\"r^2 value:\", r_value**2)\n",
    "print(\"slope/shape parameter:\", shape)\n",
    "scale = math.exp(-x_intercept/slope)\n",
    "print(\"scale parameter:\", scale)"
   ]
  },
  {
   "cell_type": "markdown",
   "metadata": {},
   "source": [
    "### Linear CDF\n",
    "\n",
    "From the least-squares fit method above, we now have the Weibull shape $\\beta$ and scale $\\lambda$ parameter.  Next we can plot the actual failure times versus the \"ideal\" Weibull distribution.  We will plot on a more useful log-log scale where the x axis is the failure time and y axis is the cumulative distribution function."
   ]
  },
  {
   "cell_type": "code",
   "execution_count": 3,
   "metadata": {
    "run_control": {
     "read_only": false
    }
   },
   "outputs": [
    {
     "data": {
      "image/png": "[encoded data removed]",
      "text/plain": [
       "<matplotlib.figure.Figure at 0x14353ed0>"
      ]
     },
     "metadata": {},
     "output_type": "display_data"
    }
   ],
   "source": [
    "import numpy as np\n",
    "from matplotlib.ticker import FuncFormatter\n",
    "\n",
    "# I'm used to  the ln notation for the natural log\n",
    "from numpy import log as ln\n",
    "\n",
    "# Since we are going to plot failure times on log \n",
    "# scale, we don't need to take the log of the failure times\n",
    "x = data\n",
    "rank = np.arange(1, x.size + 1)  # ranks = {1, 2, 3, ... 10}\n",
    "median_rank = (rank - 0.3)/(rank.size + 0.4)\n",
    "y = ln(-ln(1 - median_rank))\n",
    "\n",
    "# Generate 1000 numbers following a Weibull distribution that we think ideally fits our data using the shape and scale parameter\n",
    "x_ideal = scale * np.random.weibull(shape, size=100)\n",
    "x_ideal.sort()\n",
    "F = 1 - np.exp( -(x_ideal/scale)**shape )\n",
    "y_ideal = ln(-ln(1 - F))\n",
    "\n",
    "# Weibull plot\n",
    "fig1 = plt.figure()\n",
    "fig1.set_size_inches(11,9)\n",
    "ax = plt.subplot(111)\n",
    "plt.semilogx(x, y, \"bs\")\n",
    "plt.semilogx(x_ideal, y_ideal, 'r-', label=\"beta= %5G\\neta = %.5G\" % (shape, scale) )\n",
    "plt.title(\"Weibull Probability Plot on Log Scale\")\n",
    "plt.xlabel('x (time)')\n",
    "plt.ylabel('Cumulative Distribution Function')\n",
    "plt.legend(loc='lower right')\n",
    "\n",
    "# Generate ticks\n",
    "def weibull_CDF(y, pos):\n",
    "    return \"%G %%\" % (100*(1-np.exp(-np.exp(y))))\n",
    "\n",
    "formatter = FuncFormatter(weibull_CDF)\n",
    "ax.yaxis.set_major_formatter(formatter)\n",
    "\n",
    "yt_F = np.array([ 0.01, 0.05, 0.1, 0.2, 0.3, 0.4, 0.5,\n",
    "           0.6, 0.7, 0.8, 0.9, 0.95, 0.99])\n",
    "yt_lnF = ln( -ln(1-yt_F))\n",
    "plt.yticks(yt_lnF)\n",
    "ax.yaxis.grid()\n",
    "ax.xaxis.grid(which='both')"
   ]
  },
  {
   "cell_type": "markdown",
   "metadata": {},
   "source": [
    "Since it can be difficult to read certain x and y (CDF) values from the Weibull log-log scale plot above, let's create an output containing x values and their corresponding y (CDF) values.\n",
    "\n",
    "2-parameter Weibull Cumulative Distribution Function (CDF):\n",
    "\n",
    "$\\large{F(x) = 1 - e^{(\\frac{x}{\\lambda})^\\beta}}$\n",
    "\n",
    "where:\n",
    "\n",
    " - $\\beta$ is the shape parameter\n",
    " - $\\lambda$ is the scale parameter"
   ]
  },
  {
   "cell_type": "code",
   "execution_count": 4,
   "metadata": {
    "run_control": {
     "read_only": false
    }
   },
   "outputs": [
    {
     "data": {
      "image/png": "[encoded data removed]",
      "text/plain": [
       "<matplotlib.figure.Figure at 0x145fed30>"
      ]
     },
     "metadata": {},
     "output_type": "display_data"
    }
   ],
   "source": [
    "x2 = np.arange(0,400)\n",
    "y2 = 1-np.exp(-(x2/scale)**shape) # This is the equation for Weibull CDF as illustrated above\n",
    "\n",
    "plt.plot(x2,y2)\n",
    "plt.title(\"Weibull CDF - Prediction\")\n",
    "plt.grid()"
   ]
  },
  {
   "cell_type": "markdown",
   "metadata": {},
   "source": [
    "Finally, the point of doing all of this is to allow us to predict failures after x units of time. Based on the output above, if someone were to ask us \"What percent of the population will have failed after 200 days?\"  The answer would be approximately 60%."
   ]
  },
  {
   "cell_type": "markdown",
   "metadata": {},
   "source": [
    "# Part 2 - Weibull Analysis with Suspensions/Censored Data\n",
    "\n",
    "[[back to top](#introduction)]\n",
    "\n",
    "<a id=\"part2\"></a>\n",
    "\n",
    "In this Part 2 of the series, I will cover how to do Weibull analysis when our data set also includes data from units that didn't fail or failed for a different reason or for a different failure mode.  This scenario where our data set includes data from units that have not failed yet is very common in the industry since most of the time it would be unfeasible or time consuming to wait for all units to have failed. When our data includes data such as these, the data set as a whole is what is referred to as \"failure data with suspensions or censored data\".  This is just fancy talk by statisticians.\n",
    "\n",
    "To perform Weibull analysis on data with suspensions, the \"rank\" of the data has to be adjusted due to the suspension data.  Then we can accordingly calculate the proper median ranks using Bernard's formula."
   ]
  },
  {
   "cell_type": "markdown",
   "metadata": {},
   "source": [
    "## Example\n",
    "\n",
    "Let's get some failure data:"
   ]
  },
  {
   "cell_type": "code",
   "execution_count": 5,
   "metadata": {},
   "outputs": [
    {
     "data": {
      "text/html": [
       "<div>\n",
       "<style scoped>\n",
       "    .dataframe tbody tr th:only-of-type {\n",
       "        vertical-align: middle;\n",
       "    }\n",
       "\n",
       "    .dataframe tbody tr th {\n",
       "        vertical-align: top;\n",
       "    }\n",
       "\n",
       "    .dataframe thead th {\n",
       "        text-align: right;\n",
       "    }\n",
       "</style>\n",
       "<table border=\"1\" class=\"dataframe\">\n",
       "  <thead>\n",
       "    <tr style=\"text-align: right;\">\n",
       "      <th></th>\n",
       "      <th>dtf</th>\n",
       "      <th>status</th>\n",
       "      <th>vin</th>\n",
       "    </tr>\n",
       "  </thead>\n",
       "  <tbody>\n",
       "    <tr>\n",
       "      <th>0</th>\n",
       "      <td>10</td>\n",
       "      <td>suspended</td>\n",
       "      <td>6</td>\n",
       "    </tr>\n",
       "    <tr>\n",
       "      <th>1</th>\n",
       "      <td>30</td>\n",
       "      <td>failed</td>\n",
       "      <td>1</td>\n",
       "    </tr>\n",
       "    <tr>\n",
       "      <th>2</th>\n",
       "      <td>45</td>\n",
       "      <td>suspended</td>\n",
       "      <td>7</td>\n",
       "    </tr>\n",
       "    <tr>\n",
       "      <th>3</th>\n",
       "      <td>49</td>\n",
       "      <td>failed</td>\n",
       "      <td>2</td>\n",
       "    </tr>\n",
       "    <tr>\n",
       "      <th>4</th>\n",
       "      <td>82</td>\n",
       "      <td>failed</td>\n",
       "      <td>3</td>\n",
       "    </tr>\n",
       "    <tr>\n",
       "      <th>5</th>\n",
       "      <td>90</td>\n",
       "      <td>failed</td>\n",
       "      <td>4</td>\n",
       "    </tr>\n",
       "    <tr>\n",
       "      <th>6</th>\n",
       "      <td>96</td>\n",
       "      <td>failed</td>\n",
       "      <td>5</td>\n",
       "    </tr>\n",
       "    <tr>\n",
       "      <th>7</th>\n",
       "      <td>100</td>\n",
       "      <td>suspended</td>\n",
       "      <td>8</td>\n",
       "    </tr>\n",
       "  </tbody>\n",
       "</table>\n",
       "</div>"
      ],
      "text/plain": [
       "   dtf     status  vin\n",
       "0   10  suspended    6\n",
       "1   30     failed    1\n",
       "2   45  suspended    7\n",
       "3   49     failed    2\n",
       "4   82     failed    3\n",
       "5   90     failed    4\n",
       "6   96     failed    5\n",
       "7  100  suspended    8"
      ]
     },
     "execution_count": 5,
     "metadata": {},
     "output_type": "execute_result"
    }
   ],
   "source": [
    "import pandas as pd\n",
    "\n",
    "data = {\n",
    "    'vin': pd.Series([6, 1, 7, 2, 3, 4, 5, 8]),\n",
    "    'dtf': pd.Series([10, 30, 45, 49, 82, 90, 96, 100]),\n",
    "    'status': pd.Series(['suspended', 'failed', 'suspended', 'failed', 'failed', \n",
    "                   'failed', 'failed', 'suspended'])\n",
    "}\n",
    "\n",
    "df = pd.DataFrame(data)\n",
    "df"
   ]
  },
  {
   "cell_type": "markdown",
   "metadata": {},
   "source": [
    "From the output above, we see that we have 8 rows of data, where we have 5 failed units and 3 suspensions.\n",
    "\n",
    "The equation for calculating the adjusted rank is as follows:\n",
    "\n",
    "$\\large{Adjusted Rank = \\frac{(Reverse Rank)(Previous AdjustedRank) + (N+1)}{(Reverse Rank) + 1}}$\n",
    "\n",
    "This is equivalent to calculating the median ranks in part 1.\n",
    "\n",
    "Now we are ready to create 4 additional columns.  We need: rank, reverse rank, adjusted rank, and median rank.  The Python script below will create those 4 columns for us using the dataframe's apply() method, which allows us to create Excel-like functions to create new columns."
   ]
  },
  {
   "cell_type": "code",
   "execution_count": 6,
   "metadata": {
    "run_control": {
     "read_only": false
    }
   },
   "outputs": [
    {
     "name": "stdout",
     "output_type": "stream",
     "text": [
      "What the data looks like with the 4 additional columns(\"NaN\"=Not A Number):\n"
     ]
    },
    {
     "data": {
      "text/html": [
       "<div>\n",
       "<style scoped>\n",
       "    .dataframe tbody tr th:only-of-type {\n",
       "        vertical-align: middle;\n",
       "    }\n",
       "\n",
       "    .dataframe tbody tr th {\n",
       "        vertical-align: top;\n",
       "    }\n",
       "\n",
       "    .dataframe thead th {\n",
       "        text-align: right;\n",
       "    }\n",
       "</style>\n",
       "<table border=\"1\" class=\"dataframe\">\n",
       "  <thead>\n",
       "    <tr style=\"text-align: right;\">\n",
       "      <th></th>\n",
       "      <th>dtf</th>\n",
       "      <th>status</th>\n",
       "      <th>vin</th>\n",
       "      <th>rank</th>\n",
       "      <th>rev_rank</th>\n",
       "      <th>adj_rank</th>\n",
       "      <th>median_rank</th>\n",
       "    </tr>\n",
       "  </thead>\n",
       "  <tbody>\n",
       "    <tr>\n",
       "      <th>0</th>\n",
       "      <td>10</td>\n",
       "      <td>suspended</td>\n",
       "      <td>6</td>\n",
       "      <td>1</td>\n",
       "      <td>8</td>\n",
       "      <td>suspended</td>\n",
       "      <td>NaN</td>\n",
       "    </tr>\n",
       "    <tr>\n",
       "      <th>1</th>\n",
       "      <td>30</td>\n",
       "      <td>failed</td>\n",
       "      <td>1</td>\n",
       "      <td>2</td>\n",
       "      <td>7</td>\n",
       "      <td>1.125</td>\n",
       "      <td>0.098214</td>\n",
       "    </tr>\n",
       "    <tr>\n",
       "      <th>2</th>\n",
       "      <td>45</td>\n",
       "      <td>suspended</td>\n",
       "      <td>7</td>\n",
       "      <td>3</td>\n",
       "      <td>6</td>\n",
       "      <td>suspended</td>\n",
       "      <td>NaN</td>\n",
       "    </tr>\n",
       "    <tr>\n",
       "      <th>3</th>\n",
       "      <td>49</td>\n",
       "      <td>failed</td>\n",
       "      <td>2</td>\n",
       "      <td>4</td>\n",
       "      <td>5</td>\n",
       "      <td>2.4375</td>\n",
       "      <td>0.254464</td>\n",
       "    </tr>\n",
       "    <tr>\n",
       "      <th>4</th>\n",
       "      <td>82</td>\n",
       "      <td>failed</td>\n",
       "      <td>3</td>\n",
       "      <td>5</td>\n",
       "      <td>4</td>\n",
       "      <td>3.75</td>\n",
       "      <td>0.410714</td>\n",
       "    </tr>\n",
       "    <tr>\n",
       "      <th>5</th>\n",
       "      <td>90</td>\n",
       "      <td>failed</td>\n",
       "      <td>4</td>\n",
       "      <td>6</td>\n",
       "      <td>3</td>\n",
       "      <td>5.0625</td>\n",
       "      <td>0.566964</td>\n",
       "    </tr>\n",
       "    <tr>\n",
       "      <th>6</th>\n",
       "      <td>96</td>\n",
       "      <td>failed</td>\n",
       "      <td>5</td>\n",
       "      <td>7</td>\n",
       "      <td>2</td>\n",
       "      <td>6.375</td>\n",
       "      <td>0.723214</td>\n",
       "    </tr>\n",
       "    <tr>\n",
       "      <th>7</th>\n",
       "      <td>100</td>\n",
       "      <td>suspended</td>\n",
       "      <td>8</td>\n",
       "      <td>8</td>\n",
       "      <td>1</td>\n",
       "      <td>suspended</td>\n",
       "      <td>NaN</td>\n",
       "    </tr>\n",
       "  </tbody>\n",
       "</table>\n",
       "</div>"
      ],
      "text/plain": [
       "   dtf     status  vin  rank  rev_rank   adj_rank  median_rank\n",
       "0   10  suspended    6     1         8  suspended          NaN\n",
       "1   30     failed    1     2         7      1.125     0.098214\n",
       "2   45  suspended    7     3         6  suspended          NaN\n",
       "3   49     failed    2     4         5     2.4375     0.254464\n",
       "4   82     failed    3     5         4       3.75     0.410714\n",
       "5   90     failed    4     6         3     5.0625     0.566964\n",
       "6   96     failed    5     7         2      6.375     0.723214\n",
       "7  100  suspended    8     8         1  suspended          NaN"
      ]
     },
     "execution_count": 6,
     "metadata": {},
     "output_type": "execute_result"
    }
   ],
   "source": [
    "# Reference material on how to use the apply() function in a dataframe:\n",
    "# http://stackoverflow.com/questions/13331698/how-to-apply-a-function-to-two-columns-of-pandas-dataframe  or\n",
    "# http://manishamde.github.io/blog/2013/03/07/pandas-and-python-top-10/\n",
    "\n",
    "# Make sure the data set is sorted by DTF in ascending order\n",
    "df.sort_values(by=\"dtf\")\n",
    "prev_adj_rank = [0]\n",
    "\n",
    "def adj_rank(series):\n",
    "    if series[\"status\"] == \"suspended\":\n",
    "        return \"suspended\"\n",
    "    else:\n",
    "        adjusted_rank = (series[\"rev_rank\"] * 1.0 * prev_adj_rank[-1] + (len(df) + 1))/(series[\"rev_rank\"] + 1)\n",
    "        prev_adj_rank.append(adjusted_rank)\n",
    "        return adjusted_rank\n",
    "        \n",
    "def median_rank(series):\n",
    "    if series[\"adj_rank\"] == \"suspended\":\n",
    "        return np.nan\n",
    "    else:\n",
    "        median_rank = (series[\"adj_rank\"] - 0.3)  /(len(df) + 0.4)\n",
    "        return median_rank\n",
    "\n",
    "df[\"rank\"] = df.index + 1\n",
    "df[\"rev_rank\"] = len(df) + 1 - df[\"rank\"]\n",
    "df[\"adj_rank\"] = df.apply(adj_rank, axis=1)\n",
    "df[\"median_rank\"] = df.apply(median_rank, axis=1)\n",
    "\n",
    "print(\"What the data looks like with the 4 additional columns(\\\"NaN\\\"=Not A Number):\")\n",
    "df"
   ]
  },
  {
   "cell_type": "markdown",
   "metadata": {},
   "source": [
    "Since we will actually only plot data from failed units and not the suspensions, we want to limit our data set to those 5 rows where status equals \"FAILED\":"
   ]
  },
  {
   "cell_type": "code",
   "execution_count": 7,
   "metadata": {
    "run_control": {
     "read_only": false
    }
   },
   "outputs": [
    {
     "name": "stdout",
     "output_type": "stream",
     "text": [
      "What the data looks like with just failed data:\n"
     ]
    },
    {
     "data": {
      "text/html": [
       "<div>\n",
       "<style scoped>\n",
       "    .dataframe tbody tr th:only-of-type {\n",
       "        vertical-align: middle;\n",
       "    }\n",
       "\n",
       "    .dataframe tbody tr th {\n",
       "        vertical-align: top;\n",
       "    }\n",
       "\n",
       "    .dataframe thead th {\n",
       "        text-align: right;\n",
       "    }\n",
       "</style>\n",
       "<table border=\"1\" class=\"dataframe\">\n",
       "  <thead>\n",
       "    <tr style=\"text-align: right;\">\n",
       "      <th></th>\n",
       "      <th>dtf</th>\n",
       "      <th>status</th>\n",
       "      <th>vin</th>\n",
       "      <th>rank</th>\n",
       "      <th>rev_rank</th>\n",
       "      <th>adj_rank</th>\n",
       "      <th>median_rank</th>\n",
       "    </tr>\n",
       "  </thead>\n",
       "  <tbody>\n",
       "    <tr>\n",
       "      <th>1</th>\n",
       "      <td>30</td>\n",
       "      <td>failed</td>\n",
       "      <td>1</td>\n",
       "      <td>2</td>\n",
       "      <td>7</td>\n",
       "      <td>1.125</td>\n",
       "      <td>0.098214</td>\n",
       "    </tr>\n",
       "    <tr>\n",
       "      <th>3</th>\n",
       "      <td>49</td>\n",
       "      <td>failed</td>\n",
       "      <td>2</td>\n",
       "      <td>4</td>\n",
       "      <td>5</td>\n",
       "      <td>2.4375</td>\n",
       "      <td>0.254464</td>\n",
       "    </tr>\n",
       "    <tr>\n",
       "      <th>4</th>\n",
       "      <td>82</td>\n",
       "      <td>failed</td>\n",
       "      <td>3</td>\n",
       "      <td>5</td>\n",
       "      <td>4</td>\n",
       "      <td>3.75</td>\n",
       "      <td>0.410714</td>\n",
       "    </tr>\n",
       "    <tr>\n",
       "      <th>5</th>\n",
       "      <td>90</td>\n",
       "      <td>failed</td>\n",
       "      <td>4</td>\n",
       "      <td>6</td>\n",
       "      <td>3</td>\n",
       "      <td>5.0625</td>\n",
       "      <td>0.566964</td>\n",
       "    </tr>\n",
       "    <tr>\n",
       "      <th>6</th>\n",
       "      <td>96</td>\n",
       "      <td>failed</td>\n",
       "      <td>5</td>\n",
       "      <td>7</td>\n",
       "      <td>2</td>\n",
       "      <td>6.375</td>\n",
       "      <td>0.723214</td>\n",
       "    </tr>\n",
       "  </tbody>\n",
       "</table>\n",
       "</div>"
      ],
      "text/plain": [
       "   dtf  status  vin  rank  rev_rank adj_rank  median_rank\n",
       "1   30  failed    1     2         7    1.125     0.098214\n",
       "3   49  failed    2     4         5   2.4375     0.254464\n",
       "4   82  failed    3     5         4     3.75     0.410714\n",
       "5   90  failed    4     6         3   5.0625     0.566964\n",
       "6   96  failed    5     7         2    6.375     0.723214"
      ]
     },
     "execution_count": 7,
     "metadata": {},
     "output_type": "execute_result"
    }
   ],
   "source": [
    "print(\"What the data looks like with just failed data:\")\n",
    "df_final = df[df.status == \"failed\"]\n",
    "df_final"
   ]
  },
  {
   "cell_type": "markdown",
   "metadata": {},
   "source": [
    "Now we can start creating the usual probability plots:"
   ]
  },
  {
   "cell_type": "code",
   "execution_count": 8,
   "metadata": {
    "run_control": {
     "read_only": false
    }
   },
   "outputs": [
    {
     "name": "stdout",
     "output_type": "stream",
     "text": [
      "x and y coordinates of the Weibull plot:\n",
      "( -2.26935967679 , 3.40119738166 )\n",
      "( -1.22535907083 , 3.89182029811 )\n",
      "( -0.637061542208 , 4.40671924726 )\n",
      "( -0.178008782168 , 4.49980967033 )\n",
      "( 0.25037862029 , 4.56434819147 )\n"
     ]
    },
    {
     "data": {
      "image/png": "[encoded data removed]",
      "text/plain": [
       "<matplotlib.figure.Figure at 0x146ec290>"
      ]
     },
     "metadata": {},
     "output_type": "display_data"
    }
   ],
   "source": [
    "data = df_final[\"dtf\"].values\n",
    "y = ln(data)\n",
    "median_rank = df_final[\"median_rank\"].values\n",
    "x = ln(-ln(1 - median_rank))\n",
    "\n",
    "plt.scatter(x,y)\n",
    "plt.title(\"Weibull Probability Plot of Failure Times\", weight='bold')\n",
    "plt.grid()\n",
    "\n",
    "print(\"x and y coordinates of the Weibull plot:\")\n",
    "for value in zip(x,y):\n",
    "    print(\"( \" + str(value[0]) + \" , \" + str(value[1]) + \" )\")"
   ]
  },
  {
   "cell_type": "code",
   "execution_count": 9,
   "metadata": {
    "run_control": {
     "read_only": false
    }
   },
   "outputs": [
    {
     "name": "stdout",
     "output_type": "stream",
     "text": [
      "r^2 value: 0.953148083657\n",
      "slope/shape parameter: 2.02425855437\n",
      "scale parameter: 94.99794288911302\n"
     ]
    },
    {
     "data": {
      "image/png": "[encoded data removed]",
      "text/plain": [
       "<matplotlib.figure.Figure at 0x14cdc110>"
      ]
     },
     "metadata": {},
     "output_type": "display_data"
    }
   ],
   "source": [
    "import scipy.stats as stats # scipy is a statistical package for Python\n",
    "\n",
    "# Use Scipy's stats package to perform least-squares fit\n",
    "slope, intercept, r_value, p_value, std_err = stats.linregress(x,y)\n",
    "\n",
    "line = slope*x+intercept\n",
    "plt.scatter(x,y)\n",
    "plt.plot(x,line)\n",
    "plt.title(\"Linear Regression - Least Squares Method\")\n",
    "plt.grid()\n",
    "\n",
    "# Since we plot failure times on the y-axis, the actual slope is inverted\n",
    "shape = 1/slope\n",
    "# Since we plot failure times on the y-axis, we want the x-intercept, not the y-intercept\n",
    "# x-intercept is equal to the negative y-intercept divided by the slope/shape parameter\n",
    "# Basically you are solving for x: 0 = mx + b, equation of the line where y = 0\n",
    "x_intercept = - intercept / shape\n",
    "\n",
    "print(\"r^2 value:\", r_value**2)\n",
    "print(\"slope/shape parameter:\", shape)\n",
    "scale = math.exp(-x_intercept/slope)\n",
    "print(\"scale parameter:\", scale)"
   ]
  },
  {
   "cell_type": "code",
   "execution_count": 10,
   "metadata": {
    "run_control": {
     "read_only": false
    }
   },
   "outputs": [
    {
     "data": {
      "image/png": "[encoded data removed]",
      "text/plain": [
       "<matplotlib.figure.Figure at 0x14627ef0>"
      ]
     },
     "metadata": {},
     "output_type": "display_data"
    }
   ],
   "source": [
    "import numpy as np\n",
    "from matplotlib.ticker import FuncFormatter\n",
    "\n",
    "# I'm used to  the ln notation for the natural log\n",
    "from numpy import log as ln\n",
    "\n",
    "# 10 failures that we are assuming follow a Weibull distribution\n",
    "x = df_final[\"dtf\"].values\n",
    "rank = np.arange(1,data.size+1)  # ranks = {1, 2, 3, ... 21}\n",
    "median_rank = df_final[\"median_rank\"].values\n",
    "y = ln(-ln(1 - median_rank))\n",
    "\n",
    "# Generate 1000 numbers following a Weibull distribution that we think ideally fits our data using the shape and scale parameter\n",
    "x_ideal = scale * np.random.weibull(shape, size=100)\n",
    "x_ideal.sort()\n",
    "F = 1 - np.exp( -(x_ideal/scale)**shape )\n",
    "y_ideal = ln(-ln(1 - F))\n",
    "\n",
    "# Weibull plot\n",
    "fig1 = plt.figure()\n",
    "fig1.set_size_inches(11,9)\n",
    "ax = plt.subplot(111)\n",
    "plt.semilogx(x, y, \"bs\")\n",
    "plt.semilogx(x_ideal, y_ideal, 'r-', label=\"beta= %5G\\neta = %.5G\" % (shape, scale) )\n",
    "plt.title(\"Weibull Probability Plot on Log Scale\")\n",
    "plt.xlabel('x (time)')\n",
    "plt.ylabel('Cumulative Distribution Function')\n",
    "plt.legend(loc='lower right')\n",
    "\n",
    "# Generate ticks\n",
    "def weibull_CDF(y, pos):\n",
    "    return \"%G %%\" % (100*(1-np.exp(-np.exp(y))))\n",
    "\n",
    "formatter = FuncFormatter(weibull_CDF)\n",
    "ax.yaxis.set_major_formatter(formatter)\n",
    "\n",
    "yt_F = np.array([ 0.01, 0.05, 0.1, 0.2, 0.3, 0.4, 0.5,\n",
    "           0.6, 0.7, 0.8, 0.9, 0.95, 0.99])\n",
    "yt_lnF = ln( -ln(1-yt_F))\n",
    "plt.yticks(yt_lnF)\n",
    "ax.yaxis.grid()\n",
    "ax.xaxis.grid(which='both')"
   ]
  },
  {
   "cell_type": "code",
   "execution_count": 11,
   "metadata": {
    "run_control": {
     "read_only": false
    }
   },
   "outputs": [
    {
     "data": {
      "image/png": "[encoded data removed]",
      "text/plain": [
       "<matplotlib.figure.Figure at 0x14cf4a10>"
      ]
     },
     "metadata": {},
     "output_type": "display_data"
    }
   ],
   "source": [
    "x2 = np.arange(0,300)\n",
    "y2 = 1-np.exp(-(x2/scale)**shape) # This is the equation for Weibull CDF\n",
    "\n",
    "plt.plot(x2,y2)\n",
    "plt.title(\"Weibull CDF - Prediction\")\n",
    "plt.grid()"
   ]
  },
  {
   "cell_type": "markdown",
   "metadata": {},
   "source": [
    "## Estimation Complete!\n",
    "\n",
    "Actually, there's more to this. There are considerations that need to be made in determining if our line through the data points is a \"good\" fit. Also, when dealing with suspensions as outlined in this part 2, I have found that if I have very large quantities of suspensions compared to actual failures, X on Y median rank regression method did not work very well.  After brief [research](http://www.weibull.com/hotwire/issue16/relbasics16.htm), I have found that in this case, it is recommended that I use a non-graphical method called maximum likelihood estimation (MLE)."
   ]
  },
  {
   "cell_type": "markdown",
   "metadata": {},
   "source": [
    "# Part 3 - Estimating Weibull Parameters using Maximum Likelihood Estimation (MLE)\n",
    "\n",
    "[[back to top](#introduction)]\n",
    "\n",
    "<a id=\"part3\"></a>\n",
    "\n",
    "To solve for our scale parameter (k) using MLE, we need to solve for this equation below:\n",
    "\n",
    "$\\large{\\sum\\limits_{i=1}^r \\frac{ln(x_i)}{r}=\\frac{\\sum\\limits_{i=1}^n (x_i)^\\beta ln(x_i)}{\\sum\\limits_{i=1}^n (x_i)^\\beta}-\\frac{1}{\\beta}\\approx0}$\n",
    "\n",
    "where: \n",
    "\n",
    " - $x_i$ is the ith failure time\n",
    " - $r$ is the number of failures\n",
    " - $n$ is the total number of failure times, both failed and suspended\n",
    " \n",
    "The equation above basically means we need to find a value of $\\beta$ such that the left of the equation equals the right equation or in other words, the value of $\\beta$ such that the difference between the left of the equation and right of the equation is as close to zero as possible.  Once we find the value of $\\beta$, the scale parameter can be calculated as:\n",
    "\n",
    "$\\large{\\lambda=\\left(\\sum\\limits_{i=1}^n \\frac{(x_i)^\\beta}{r}\\right)^\\frac{1}{\\beta}}$"
   ]
  },
  {
   "cell_type": "markdown",
   "metadata": {},
   "source": [
    "## Example\n",
    "\n",
    "Lets use some example data and calculate the left side of the equation $\\large{\\sum\\limits_{i=1}^r \\frac{ln(x_i)}{r}}$:"
   ]
  },
  {
   "cell_type": "code",
   "execution_count": 12,
   "metadata": {},
   "outputs": [
    {
     "name": "stdout",
     "output_type": "stream",
     "text": [
      "Sum of \"ln_x_div_r\" column = 4.91382428308\n"
     ]
    },
    {
     "data": {
      "text/html": [
       "<div>\n",
       "<style scoped>\n",
       "    .dataframe tbody tr th:only-of-type {\n",
       "        vertical-align: middle;\n",
       "    }\n",
       "\n",
       "    .dataframe tbody tr th {\n",
       "        vertical-align: top;\n",
       "    }\n",
       "\n",
       "    .dataframe thead th {\n",
       "        text-align: right;\n",
       "    }\n",
       "</style>\n",
       "<table border=\"1\" class=\"dataframe\">\n",
       "  <thead>\n",
       "    <tr style=\"text-align: right;\">\n",
       "      <th></th>\n",
       "      <th>dtf</th>\n",
       "      <th>status</th>\n",
       "      <th>ln_x_div_r</th>\n",
       "    </tr>\n",
       "  </thead>\n",
       "  <tbody>\n",
       "    <tr>\n",
       "      <th>1</th>\n",
       "      <td>77.8</td>\n",
       "      <td>failed</td>\n",
       "      <td>0.395831</td>\n",
       "    </tr>\n",
       "    <tr>\n",
       "      <th>4</th>\n",
       "      <td>101.8</td>\n",
       "      <td>failed</td>\n",
       "      <td>0.420274</td>\n",
       "    </tr>\n",
       "    <tr>\n",
       "      <th>5</th>\n",
       "      <td>105.9</td>\n",
       "      <td>failed</td>\n",
       "      <td>0.423863</td>\n",
       "    </tr>\n",
       "    <tr>\n",
       "      <th>6</th>\n",
       "      <td>117.0</td>\n",
       "      <td>failed</td>\n",
       "      <td>0.432925</td>\n",
       "    </tr>\n",
       "    <tr>\n",
       "      <th>7</th>\n",
       "      <td>126.9</td>\n",
       "      <td>failed</td>\n",
       "      <td>0.440309</td>\n",
       "    </tr>\n",
       "    <tr>\n",
       "      <th>8</th>\n",
       "      <td>138.7</td>\n",
       "      <td>failed</td>\n",
       "      <td>0.448392</td>\n",
       "    </tr>\n",
       "    <tr>\n",
       "      <th>9</th>\n",
       "      <td>148.9</td>\n",
       "      <td>failed</td>\n",
       "      <td>0.454843</td>\n",
       "    </tr>\n",
       "    <tr>\n",
       "      <th>11</th>\n",
       "      <td>157.3</td>\n",
       "      <td>failed</td>\n",
       "      <td>0.459832</td>\n",
       "    </tr>\n",
       "    <tr>\n",
       "      <th>12</th>\n",
       "      <td>163.8</td>\n",
       "      <td>failed</td>\n",
       "      <td>0.463513</td>\n",
       "    </tr>\n",
       "    <tr>\n",
       "      <th>16</th>\n",
       "      <td>207.0</td>\n",
       "      <td>failed</td>\n",
       "      <td>0.484793</td>\n",
       "    </tr>\n",
       "    <tr>\n",
       "      <th>18</th>\n",
       "      <td>217.4</td>\n",
       "      <td>failed</td>\n",
       "      <td>0.489249</td>\n",
       "    </tr>\n",
       "  </tbody>\n",
       "</table>\n",
       "</div>"
      ],
      "text/plain": [
       "      dtf  status  ln_x_div_r\n",
       "1    77.8  failed    0.395831\n",
       "4   101.8  failed    0.420274\n",
       "5   105.9  failed    0.423863\n",
       "6   117.0  failed    0.432925\n",
       "7   126.9  failed    0.440309\n",
       "8   138.7  failed    0.448392\n",
       "9   148.9  failed    0.454843\n",
       "11  157.3  failed    0.459832\n",
       "12  163.8  failed    0.463513\n",
       "16  207.0  failed    0.484793\n",
       "18  217.4  failed    0.489249"
      ]
     },
     "execution_count": 12,
     "metadata": {},
     "output_type": "execute_result"
    }
   ],
   "source": [
    "import pandas as pd\n",
    "\n",
    "index = [1, 4, 5, 6, 7, 8, 9, 11, 12, 16, 18]\n",
    "\n",
    "data = {\n",
    "    'dtf': [77.8, 101.8, 105.9, 117.0, 126.9, 138.7,\n",
    "            148.9, 157.3, 163.8, 207.0, 217.4],\n",
    "    'status': ['failed'] * len(index)\n",
    "}\n",
    "\n",
    "df = pd.DataFrame(data, index=index)\n",
    "\n",
    "df_failed = df[df.status=='failed']\n",
    "dtf_failed = df_failed[\"dtf\"].values\n",
    "\n",
    "def ln_x_div_r(series):\n",
    "    return ln(series[\"dtf\"])/len(df_failed)\n",
    "\n",
    "left_eq_sum = np.sum( ln(dtf_failed) / len(df_failed) )\n",
    "\n",
    "df_failed[\"ln_x_div_r\"] = df_failed.apply(ln_x_div_r, axis=1)\n",
    "\n",
    "print(\"Sum of \\\"ln_x_div_r\\\" column =\", left_eq_sum)\n",
    "df_failed"
   ]
  },
  {
   "cell_type": "markdown",
   "metadata": {},
   "source": [
    "left side = $\\large{\\sum\\limits_{i=1}^r \\frac{ln(x_i)}{r}=4.9138}$\n",
    "\n",
    "The left side of the equation was calculated to be 4.9138.  Next we are going to calculate the right side of the equation using 100,000 values of k ranging from 0.1 to 10 and then substract the result from 4.9138.  Basically, what we are trying to achieve is throw a lot of k values into the right side of the equation, and subtract the result from it from 4.9138 until we find the difference as small or close to zero as possible.\n",
    "\n",
    "$\\large{4.9138-\\left(\\frac{\\sum\\limits_{i=1}^n (x_i)^\\beta ln(x_i)}{\\sum\\limits_{i=1}^n (x_i)^\\beta}-\\frac{1}{\\beta}\\right) \\approx 0}$"
   ]
  },
  {
   "cell_type": "markdown",
   "metadata": {},
   "source": [
    "This script below will calculate the 100,000 values that represent the difference of the left side and right side of the equation:"
   ]
  },
  {
   "cell_type": "code",
   "execution_count": 13,
   "metadata": {
    "run_control": {
     "read_only": false
    }
   },
   "outputs": [],
   "source": [
    "dtf_all = df[\"dtf\"].values\n",
    "\n",
    "# Generate 10,0000 k values that is between 0.1 and 10\n",
    "# Can't use 0 because it is not a valid value in the right-side equation formula, so we're using 0.1 instead\n",
    "beta = np.linspace(0.1, 5, 100000, endpoint=True)\n",
    "\n",
    "right = []\n",
    "for value in beta:\n",
    "    right_eq = np.sum( dtf_all**value * ln(dtf_all) ) / np.sum( dtf_all**value ) - (1/value)\n",
    "    right.append(right_eq)\n",
    "    \n",
    "right_values = np.array(right)\n",
    "\n",
    "diff = right_values - left_eq_sum"
   ]
  },
  {
   "cell_type": "markdown",
   "metadata": {},
   "source": [
    "When it is done, at this point we should have 100,000 difference values and their corresponding $\\beta$ values.  Now let's plot them and see what they look like:"
   ]
  },
  {
   "cell_type": "code",
   "execution_count": 14,
   "metadata": {
    "run_control": {
     "read_only": false
    }
   },
   "outputs": [
    {
     "data": {
      "image/png": "[encoded data removed]",
      "text/plain": [
       "<matplotlib.figure.Figure at 0x14d54130>"
      ]
     },
     "metadata": {},
     "output_type": "display_data"
    }
   ],
   "source": [
    "plt.plot(beta, diff)\n",
    "plt.ylabel(\"Difference\")\n",
    "plt.xlabel(\"beta\")\n",
    "plt.grid()"
   ]
  },
  {
   "cell_type": "markdown",
   "metadata": {},
   "source": [
    "We need to choose a $\\beta$ value where the difference between the left equation and right equation is close to 0 as possible.  From the plot above, it looks like it would be approximately 3.  But instead of trying to \"eye-ball it\", let's calculate a more precise value for k where the difference is as close to zero as possible:"
   ]
  },
  {
   "cell_type": "code",
   "execution_count": 15,
   "metadata": {
    "run_control": {
     "read_only": false
    }
   },
   "outputs": [
    {
     "name": "stdout",
     "output_type": "stream",
     "text": [
      "What the beta values and their diffs look like:\n",
      "       diff      beta\n",
      "1 -9.991410  0.100000\n",
      "2 -9.986508  0.100049\n",
      "3 -9.981611  0.100098\n",
      "4 -9.976719  0.100147\n",
      "5 -9.971831  0.100196\n",
      "            diff      beta\n",
      "99996   0.123268  4.999804\n",
      "99997   0.123272  4.999853\n",
      "99998   0.123276  4.999902\n",
      "99999   0.123279  4.999951\n",
      "100000  0.123283  5.000000 \n",
      "\n",
      "The row with the first smallest difference:\n",
      "           diff      beta\n",
      "74298  0.000002  3.740589 \n",
      "\n",
      "Therefore, the beta value we should use where the difference is as close to zero is: 3.74058940589\n"
     ]
    }
   ],
   "source": [
    "betas = np.array(beta)\n",
    "diffs = np.array(diff)\n",
    "\n",
    "d = {'beta' : betas,\n",
    "     'diff' : diffs}\n",
    "    \n",
    "df_beta_diff = pd.DataFrame(d, index=np.arange(1, betas.size+1)) # Create one-based index instead of zero-based\n",
    "df_beta_diff = df_beta_diff.sort_index(axis=1, ascending=False)  # Re-sorting the columns so that beta column in on the left\n",
    "\n",
    "print(\"What the beta values and their diffs look like:\")\n",
    "print(df_beta_diff.head())\n",
    "print(df_beta_diff.tail(), \"\\n\")\n",
    "\n",
    "print(\"The row with the first smallest difference:\")\n",
    "beta_with_smallest_diff = df_beta_diff[ (df_beta_diff[\"diff\"] >= 0.000001)][0:1]\n",
    "print(beta_with_smallest_diff, \"\\n\")\n",
    "\n",
    "final_beta = beta_with_smallest_diff[\"beta\"].values\n",
    "beta_final = final_beta[0]\n",
    "print(\"Therefore, the beta value we should use where the difference is as close to zero is:\", beta_final)"
   ]
  },
  {
   "cell_type": "markdown",
   "metadata": {},
   "source": [
    "So now that we solved for $\\beta$, we can solve for the scale parameter $\\lambda$ next:\n",
    "\n",
    "$\\large{\\lambda=\\left(\\sum\\limits_{i=1}^n \\frac{x_i^\\beta}{r}\\right)^\\frac{1}{\\beta}}$"
   ]
  },
  {
   "cell_type": "code",
   "execution_count": 16,
   "metadata": {
    "run_control": {
     "read_only": false
    }
   },
   "outputs": [
    {
     "name": "stdout",
     "output_type": "stream",
     "text": [
      "scale parameter: 157.392712793\n"
     ]
    }
   ],
   "source": [
    "lambda_final = (np.sum((dtf_all**beta_final)/len(df_failed)))**(1/beta_final)\n",
    "print(\"scale parameter:\", lambda_final)"
   ]
  },
  {
   "cell_type": "markdown",
   "metadata": {},
   "source": [
    "Let's revisit the difference vs $\\beta$ value plot again:"
   ]
  },
  {
   "cell_type": "code",
   "execution_count": 17,
   "metadata": {
    "run_control": {
     "read_only": false
    }
   },
   "outputs": [
    {
     "data": {
      "image/png": "[encoded data removed]",
      "text/plain": [
       "<matplotlib.figure.Figure at 0x14ca4e70>"
      ]
     },
     "metadata": {},
     "output_type": "display_data"
    }
   ],
   "source": [
    "x = []\n",
    "for value in range(0,100000):\n",
    "    x.append(beta_final)\n",
    "\n",
    "plt.plot(beta, diff)\n",
    "plt.plot(x, diff)\n",
    "plt.title(f\"The difference is zero when beta is {beta_final:0.02f}\")\n",
    "plt.ylabel(\"Difference\")\n",
    "plt.xlabel(\"beta\")\n",
    "plt.grid()"
   ]
  },
  {
   "cell_type": "markdown",
   "metadata": {},
   "source": [
    "We're done!  So using MLE method, we calculated the shape parameter and the scale parameter.  With the usual Weibull CDF plot below, we are equipped to make failure predictions."
   ]
  },
  {
   "cell_type": "code",
   "execution_count": 18,
   "metadata": {
    "run_control": {
     "read_only": false
    }
   },
   "outputs": [
    {
     "data": {
      "image/png": "[encoded data removed]",
      "text/plain": [
       "<matplotlib.figure.Figure at 0x1460d050>"
      ]
     },
     "metadata": {},
     "output_type": "display_data"
    }
   ],
   "source": [
    "shape = beta_final\n",
    "scale = lambda_final\n",
    "\n",
    "x2 = np.arange(0,450)\n",
    "y2 = 1-np.exp(-(x2/scale)**shape) # This is the equation for Weibull CDF\n",
    "\n",
    "plt.plot(x2,y2)\n",
    "plt.title(\"Weibull CDF - Prediction\",weight='bold')\n",
    "plt.grid()\n",
    "plt.show()"
   ]
  },
  {
   "cell_type": "markdown",
   "metadata": {},
   "source": [
    "## MLE Using Newton-Raphson Method\n",
    "\n",
    "After some research, I found out that the method that I used to calculate the shape parameter is very inefficient since it is basically brute force method.  It turns out that, I can use Newton-Raphson method which will find the shape parameter MUCH faster.\n",
    "\n",
    "$\\large{X_{n+1}=X_n+\\frac{f(x)}{f'(x)}}$\n",
    "\n",
    "where:\n",
    "\n",
    " - $X_n$ is an arbitrary initial value\n",
    " - $f(x)$ in our case is equal to our MLE equation above, $\\large{f(x)=\\sum\\limits_{i=1}^r \\frac{ln(x_i)}{r}+\\frac{1}{k}-\\frac{\\sum\\limits_{i=1}^n (x_i)^kln(x_i)}{\\sum\\limits_{i=1}^n (x_i)^k}}$\n",
    " \n",
    "Due to the tediousness of the equation for f(x), some arbitrary variables (A,B,C,H) were used to simplify the Newton-Raphson equation:\n",
    "\n",
    "$\\huge{\\beta_{n+1}=\\beta_n+\\frac{A+\\frac{1}{\\beta_n}-\\frac{C_n}{B_n}}{\\frac{1}{\\beta_n^2}+\\frac{(B_nH_n-C_n^2)}{B_n^2}}}$\n",
    "\n",
    "where:\n",
    "\n",
    " - $A=\\sum\\limits_{i=1}^r \\frac{ln(x_i)}{r}$\n",
    " - $B=\\sum\\limits_{i=1}^n x_i^{k_n}$\n",
    " - $C=\\sum\\limits_{i=1}^n (x_i)^{k_n}\\space ln(x_i)$\n",
    " - $H=\\sum\\limits_{i=1}^n x_i^{k_n}(lnx_i)^2$\n",
    " \n",
    "But what do we use for the initial $\\beta$ value($\\beta_n$)?  It has been suggested to use the following:\n",
    "\n",
    "$\\large{\\beta_n=\\left[\\frac{\\frac{6}{\\pi^2}\\left[\\sum\\limits_{i=1}^n (ln(x_i))^2-\\left(\\sum\\limits_{i=1}^n lnx_i\\right)^2/n\\right]}{n-1} \\right]^{-\\frac{1}{2}}}$\n",
    "\n",
    "Supposedly using this equation, we will get the shape parameter on average after 3.5 iterations to achieve 4-place accuracy.  Below is the translation of those equations above into Python equivalent code and interating Newton-Raphson method 10 times:"
   ]
  },
  {
   "cell_type": "code",
   "execution_count": 19,
   "metadata": {
    "run_control": {
     "read_only": false
    }
   },
   "outputs": [
    {
     "name": "stdout",
     "output_type": "stream",
     "text": [
      "shape1 3.70354021805\n",
      "shape2 3.74029259453\n",
      "shape3 3.74057065226\n",
      "shape4 3.74057066794\n",
      "shape5 3.74057066794\n",
      "shape6 3.74057066794\n",
      "shape7 3.74057066794\n",
      "shape8 3.74057066794\n",
      "shape9 3.74057066794\n",
      "shape10 3.74057066794\n"
     ]
    }
   ],
   "source": [
    "# give initial value for the shape paramter:\n",
    "shape = (( (6.0/np.pi**2)*(np.sum(ln(dtf_all)**2) - ((np.sum(ln(dtf_all)))**2)/dtf_all.size) ) / (dtf_all.size-1))**-0.5\n",
    "\n",
    "for i in range(1,11):\n",
    "    A = np.sum(ln(dtf_failed) * 1.0)/dtf_failed.size\n",
    "    B = np.sum(dtf_all**shape)\n",
    "    C = np.sum( (dtf_all**shape) * ln(dtf_all) )\n",
    "    H = np.sum( (dtf_all**shape) * (ln(dtf_all))**2 )\n",
    "    shape = shape + (A+(1.0/shape) - (C/B)) / ( (1.0/shape**2) + ( (B*H)-C**2 ) / B**2 )\n",
    "    print(\"shape\"+str(i)+\" \"+str(shape))"
   ]
  },
  {
   "cell_type": "code",
   "execution_count": 20,
   "metadata": {
    "run_control": {
     "read_only": false
    },
    "scrolled": true
   },
   "outputs": [
    {
     "name": "stdout",
     "output_type": "stream",
     "text": [
      "So it looks like the Newton-Raphson method calculated the shape value to be:\n",
      "3.74057066794\n",
      "after only 3 iterations\n"
     ]
    }
   ],
   "source": [
    "print(\"So it looks like the Newton-Raphson method calculated the shape value to be:\")\n",
    "print(shape)\n",
    "print(\"after only 3 iterations\")"
   ]
  },
  {
   "cell_type": "markdown",
   "metadata": {},
   "source": [
    "This is very close to the shape parameter value obtained earlier using the inefficient iterative method.  This IPython notebook Weibull analysis was made possible based on reference material from the [weibull.nl](http://www.weibull.nl/index.php/about-reliability/weibull-statistics) website and also from an [example of doing Weibull analysis using Excel](http://www.qualitydigest.com/jan99/html/body_weibull.html)."
   ]
  },
  {
   "cell_type": "markdown",
   "metadata": {},
   "source": [
    "[[back to top](#introduction)]"
   ]
  }
 ],
 "metadata": {
  "hide_input": false,
  "kernelspec": {
   "display_name": "Python 3",
   "language": "python",
   "name": "python3"
  },
  "language_info": {
   "codemirror_mode": {
    "name": "ipython",
    "version": 3
   },
   "file_extension": ".py",
   "mimetype": "text/x-python",
   "name": "python",
   "nbconvert_exporter": "python",
   "pygments_lexer": "ipython3",
   "version": "3.6.3"
  }
 },
 "nbformat": 4,
 "nbformat_minor": 1
}
